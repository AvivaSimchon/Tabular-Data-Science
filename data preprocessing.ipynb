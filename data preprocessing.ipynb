{
 "cells": [
  {
   "cell_type": "code",
   "execution_count": 3,
   "id": "55f5b950",
   "metadata": {},
   "outputs": [],
   "source": [
    "import pandas as pd\n",
    "import numpy as np\n",
    "from sklearn.preprocessing import LabelEncoder"
   ]
  },
  {
   "cell_type": "code",
   "execution_count": 4,
   "id": "efa10eb4",
   "metadata": {},
   "outputs": [],
   "source": [
    "def read_data(dataset_name):\n",
    "    print('in read data')\n",
    "    if dataset_name == 'wine':\n",
    "        df = pd.read_csv('winequality-red.csv')  # Load the data\n",
    "        # Suppose the target is a binary variable\n",
    "        df['quality_bin'] = np.where(df['quality'].astype(int) > 6, 1, 0)\n",
    "        # just last column is the label\n",
    "        df = df.drop(columns=['quality'])\n",
    "\n",
    "    if dataset_name == 'cancer':\n",
    "        df = pd.read_csv(\"risk_factors_cervical_cancer.csv\", na_values=\"?\")\n",
    "        df['target'] = (df.Biopsy | df.Schiller | df.Hinselmann | df.Citology).astype(int)\n",
    "        df.drop(columns=['Schiller', 'Hinselmann', 'Citology', 'Biopsy'], inplace=True)\n",
    "        df.fillna({'STDs: Time since first diagnosis': 0, 'STDs: Time since last diagnosis': 0}, inplace=True)\n",
    "        for col in df.columns:\n",
    "            fill_median(df, col)\n",
    "\n",
    "    if dataset_name == 'creditcard':\n",
    "        df = pd.read_csv(\"creditcard.csv\", na_values=\"?\")\n",
    "        df = df.sort_values('Class',ascending = False).head(5000)\n",
    "        #df.Class.value_counts()\n",
    "        \n",
    "        \n",
    "    if dataset_name == 'HoussePrice':\n",
    "        df = pd.read_csv(\"./houseprices/train.csv\",index_col='Id')\n",
    "        df_test =  pd.read_csv(\"./houseprices/test.csv\",index_col='Id')\n",
    "        df = pd.concat([df,df_test],axis = 0 ,ignore_index = True)\n",
    "        cols = [\"OverallQual\",\"GrLivArea\",\"GarageCars\",\"GarageArea\",\"TotalBsmtSF\",\"FullBath\",\"YearBuilt\",\"YearRemodAdd\",\n",
    "        \"LotFrontage\",\"MSSubClass\", \"SalePrice\"]\n",
    "        df = df[cols]\n",
    "        df[\"LotFrontage\"] = df[\"LotFrontage\"].fillna(df[\"LotFrontage\"].mean())\n",
    "        vc = df.MSSubClass.value_counts()\n",
    "        low_categories = vc[vc <50]\n",
    "        new_col_train = df.MSSubClass.apply(lambda x: 5000 if x in low_categories else x )\n",
    "        dummy_train = pd.get_dummies(new_col_train, prefix=\"MSSubClass\")\n",
    "        df = pd.concat([df, dummy_train], axis=1)\n",
    "        df.fillna(0 , inplace =True)\n",
    "        \n",
    "        high_price_threshod = df.SalePrice.mean() + df.SalePrice.std()\n",
    "        #high_price_threshod\n",
    "        df['sale_price_binary'] = df.SalePrice.apply(lambda x: 1 if x>high_price_threshod else 0)\n",
    "        df.drop(columns=['SalePrice','MSSubClass'],inplace=True)\n",
    "        #df.head()\n",
    "        #df.sale_price_binary.value_counts()\n",
    "        \n",
    "    if dataset_name == 'mushrooms':\n",
    "        print(\"hi\")\n",
    "        df = pd.read_csv('mushrooms.csv')\n",
    "        df.head()\n",
    "        df = df.astype('category')\n",
    "        labelencoder=LabelEncoder()\n",
    "        for column in df.columns:\n",
    "            df[column] = labelencoder.fit_transform(df[column])\n",
    "        df = df.drop([\"veil-type\"],axis=1)\n",
    "        df_new = df.iloc[:,1:]\n",
    "        df_new['class'] = df.iloc[:,:1]\n",
    "        df = df_new\n",
    "        \n",
    "        \n",
    "\n",
    "    print('shape of dataset',df.shape)\n",
    "\n",
    "    return df\n",
    "\n",
    "def fill_median(data, col):\n",
    "    if col != 'STDs: Time since first diagnosis' and col != 'STDs: Time since last diagnosis':\n",
    "        data[col] = data[col].fillna(data[col].median())\n"
   ]
  },
  {
   "cell_type": "code",
   "execution_count": null,
   "id": "50983880",
   "metadata": {},
   "outputs": [],
   "source": []
  },
  {
   "cell_type": "code",
   "execution_count": 5,
   "id": "4607a390",
   "metadata": {},
   "outputs": [
    {
     "name": "stdout",
     "output_type": "stream",
     "text": [
      "in read data\n",
      "shape of dataset (1599, 12)\n",
      "in read data\n",
      "shape of dataset (858, 33)\n",
      "in read data\n",
      "shape of dataset (2919, 21)\n",
      "in read data\n",
      "hi\n",
      "shape of dataset (8124, 22)\n"
     ]
    }
   ],
   "source": [
    "\n",
    "dataset_list = ['wine','cancer','HoussePrice','mushrooms']#'creditcard', \n",
    "\n",
    "#ds is the dataset name\n",
    "for ds in dataset_list:\n",
    "    df = read_data(ds)\n",
    "    df.to_pickle(ds + '.pkl')\n"
   ]
  },
  {
   "cell_type": "code",
   "execution_count": 43,
   "id": "2c366826",
   "metadata": {},
   "outputs": [
    {
     "name": "stdout",
     "output_type": "stream",
     "text": [
      "mushrooms\n",
      "in read data\n",
      "hi\n",
      "shape of dataset (8124, 22)\n"
     ]
    }
   ],
   "source": [
    "dataset_list = ['mushrooms']#'creditcard', \n",
    "\n",
    "#ds is the dataset name\n",
    "for ds in dataset_list:\n",
    "    print(ds)\n",
    "    df = read_data(ds)\n",
    "    df.to_pickle(ds + '.pkl')"
   ]
  },
  {
   "cell_type": "code",
   "execution_count": null,
   "id": "47db7463",
   "metadata": {},
   "outputs": [],
   "source": [
    "        shaps = np.abs(self.m_shap_value()).sum(0)\n",
    "        shap_importance = np.argsort(shaps)[::-1]\n",
    "        top_n_importance = 6\n",
    "        #print(shap_importance.flatten())\n",
    "        u_cols = self.explain_set.columns.tolist()\n",
    "        important_cols = list(shap_importance.flatten()[:top_n_importance])\n",
    "        #print(len(important_cols))\n",
    "        u_cols = [u_cols[c] for c in important_cols]\n",
    "\n",
    "        #show only best feature\n",
    "        shap_user = self.m_shap_value()[0,:]\n",
    "        shap_user_importance = np.argsort(shap_user)\n",
    "        top_user_n = 6\n",
    "        # neg_cols = [u_cols[shap_user_importance[c]]for c in range(top_user_n)]\n",
    "        # neg_vals = [shap_user[shap_user_importance[c]]for c in range(top_user_n)]\n",
    "        # neg_index = [shap_user_importance[c] for c in range(top_user_n)]\n",
    "        #\n",
    "        # pos_cols = [u_cols[shap_user_importance[- (c+1)]] for c in range(top_user_n)]\n",
    "        # pos_vals = [shap_user[shap_user_importance[- (c+1)]] for c in range(top_user_n)]\n",
    "        # pos_index = [shap_user_importance[- (c+1)] for c in range(top_user_n)]\n"
   ]
  }
 ],
 "metadata": {
  "kernelspec": {
   "display_name": "Python 3 (ipykernel)",
   "language": "python",
   "name": "python3"
  },
  "language_info": {
   "codemirror_mode": {
    "name": "ipython",
    "version": 3
   },
   "file_extension": ".py",
   "mimetype": "text/x-python",
   "name": "python",
   "nbconvert_exporter": "python",
   "pygments_lexer": "ipython3",
   "version": "3.9.7"
  }
 },
 "nbformat": 4,
 "nbformat_minor": 5
}
